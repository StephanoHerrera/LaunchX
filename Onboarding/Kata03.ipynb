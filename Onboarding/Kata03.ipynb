{
 "cells": [
  {
   "cell_type": "markdown",
   "metadata": {},
   "source": [
    "# Añadir el código necesario para crear una variable que guarde la velocidad del asteroide.\n",
    "# Escribe una expresión de prueba para calcular si necesita una advertencia.\n",
    "# Agregue las instrucciones que se ejecutarán si la expresión de prueba es true o false."
   ]
  },
  {
   "cell_type": "code",
   "execution_count": 3,
   "metadata": {},
   "outputs": [
    {
     "name": "stdout",
     "output_type": "stream",
     "text": [
      "ADVERTENCIA! El asteroide se acerca demasiado rápido.\n"
     ]
    }
   ],
   "source": [
    "velocidadAsteroide = (float(input(\"Introduzca la velocidad del asteroide: \")))\n",
    "\n",
    "if velocidadAsteroide >25:\n",
    "    print(\"ADVERTENCIA! El asteroide se acerca demasiado rápido.\")"
   ]
  },
  {
   "cell_type": "markdown",
   "metadata": {},
   "source": [
    "# Agrega el código para crear una variable para un asteroide que viaja a 19 km/s\n",
    "# Escribe varias expresiones de prueba para determinar si puedes ver el rayo de luz desde la tierra\n",
    "# Agrega las instrucciones que se ejecutarán si las expresiones de prueba son True o False"
   ]
  },
  {
   "cell_type": "code",
   "execution_count": 5,
   "metadata": {},
   "outputs": [
    {
     "name": "stdout",
     "output_type": "stream",
     "text": [
      "Una noche muy tranquila, ¿no lo crees?\n"
     ]
    }
   ],
   "source": [
    "velocidadAsteroide = (float(input(\"Introduzca la velocidad del asteroide: \")))\n",
    "if velocidadAsteroide >= 20:\n",
    "    print('Mira al cielo, un rayo de luz se puede ver desde la Tierra.')\n",
    "elif velocidadAsteroide == 20:\n",
    "    print('Mira al cielo, un rayo de luz se puede ver desde la Tierra.')\n",
    "else:\n",
    "    print('Una noche muy tranquila, ¿no lo crees?')\n"
   ]
  },
  {
   "cell_type": "markdown",
   "metadata": {},
   "source": [
    "# Agrega el código para crear nuevas variables para la velocidad y el tamaño del asteroide\n",
    "# Para probar el código, prueba con varias velocidades y tamaños\n",
    "# Escribe varias expresiones de prueba o combinaciones de expresiones de prueba para determinar qué mensaje se debe enviar a Tierra."
   ]
  },
  {
   "cell_type": "markdown",
   "metadata": {},
   "source": [
    "Los asteroides de menos de 25 metros en su dimensión más grande probablemente se quemarán a medida que entren en la atmósfera de la Tierra.\n",
    "\n",
    "Si una pieza de un asteroide que es más grande que 25 metros pero más pequeña que 1000 metros golpeara la Tierra, causaría mucho daño.\n",
    "\n",
    "La velocidad del asteroide varía en función de lo cerca que esté del sol, y cualquier velocidad superior a 25 kilómetros por segundo (km/s) merece una advertencia.\n",
    "\n",
    "Si un asteroide entra en la atmósfera de la Tierra a una velocidad mayor o igual a 20 km/s, a veces produce un rayo de luz que se puede ver desde la Tierra."
   ]
  },
  {
   "cell_type": "code",
   "execution_count": 15,
   "metadata": {},
   "outputs": [
    {
     "name": "stdout",
     "output_type": "stream",
     "text": [
      "Mira al cielo, un rayo de luz se puede ver desde la Tierra.\n"
     ]
    }
   ],
   "source": [
    "velocidadAsteroide = (int(input(\"Introduzca la velocidad del asteroide: \")))\n",
    "tamañoAsteroide = (int(input(\"Introduzca el tamaño del asteroide: \")))\n",
    "\n",
    "if velocidadAsteroide > 25 and tamañoAsteroide > 25:\n",
    "        print(\"Advertencia! Peligro de colisión con daño catastrófico.\")\n",
    "elif velocidadAsteroide >= 20:\n",
    "        print(\"Mira al cielo, un rayo de luz se puede ver desde la Tierra.\")\n",
    "elif tamañoAsteroide < 25:\n",
    "        print(\"El asteroide no representa un peligro para la tierra.\")\n",
    "else:\n",
    "    print(\"Una noche muy calmada\")"
   ]
  }
 ],
 "metadata": {
  "interpreter": {
   "hash": "8094d3794d60959f37afb3f43dc0070a7b8b9d39954ba68386803b0fb877498d"
  },
  "kernelspec": {
   "display_name": "Python 3.10.2 64-bit",
   "language": "python",
   "name": "python3"
  },
  "language_info": {
   "codemirror_mode": {
    "name": "ipython",
    "version": 3
   },
   "file_extension": ".py",
   "mimetype": "text/x-python",
   "name": "python",
   "nbconvert_exporter": "python",
   "pygments_lexer": "ipython3",
   "version": "3.10.2"
  },
  "orig_nbformat": 4
 },
 "nbformat": 4,
 "nbformat_minor": 2
}
