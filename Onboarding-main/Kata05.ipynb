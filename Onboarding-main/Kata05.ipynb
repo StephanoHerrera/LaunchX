{
 "cells": [
  {
   "cell_type": "markdown",
   "metadata": {},
   "source": [
    "Exploremos cómo podemos crear un programa que pueda calcular la distancia entre dos planetas. Comenzaremos usando dos distancias de planetas: Tierra (149.597.870 km) y Júpiter (778.547.200 km)."
   ]
  },
  {
   "cell_type": "code",
   "execution_count": 5,
   "metadata": {},
   "outputs": [],
   "source": [
    "# Crear variables para almacenar las dos distancias\n",
    "# ¡Asegúrate de quitar las comas!\n",
    "\n",
    "planeta1 = 149597870\n",
    "planeta2 = 778547200"
   ]
  },
  {
   "cell_type": "code",
   "execution_count": 6,
   "metadata": {},
   "outputs": [
    {
     "name": "stdout",
     "output_type": "stream",
     "text": [
      "628949330\n",
      "390577533.93\n"
     ]
    }
   ],
   "source": [
    "# Calcular la distancia entre planetas\n",
    "\n",
    "distancia = planeta2 - planeta1\n",
    "print(distancia)\n",
    "\n",
    "distanciaMillas = distancia * 0.621\n",
    "print(distanciaMillas)"
   ]
  },
  {
   "cell_type": "markdown",
   "metadata": {},
   "source": [
    "Ejercicio 2"
   ]
  },
  {
   "cell_type": "code",
   "execution_count": 7,
   "metadata": {},
   "outputs": [
    {
     "name": "stdout",
     "output_type": "stream",
     "text": [
      "628949330\n",
      "390577533.93\n"
     ]
    }
   ],
   "source": [
    "# Almacenar las entradas del usuario\n",
    "#Pista: variable = input(\"¿Cuál es tu nombre?\")\n",
    "planeta1 = input(\"Cuál es la distancia del primer planeta al Sol?\")\n",
    "planeta2 = input(\"Cuál es la distancia del segundo planeta al Sol?\")\n",
    "#convertir a enteros\n",
    "planeta1 = int(planeta1)\n",
    "planeta2 = int(planeta2)\n",
    "# Realizar el cálculo y determinar el valor absoluto\n",
    "distancia = planeta2 - planeta1\n",
    "print(distancia)\n",
    "\n",
    "distanciaMillas = distancia*0.621\n",
    "print(distanciaMillas)"
   ]
  }
 ],
 "metadata": {
  "interpreter": {
   "hash": "8094d3794d60959f37afb3f43dc0070a7b8b9d39954ba68386803b0fb877498d"
  },
  "kernelspec": {
   "display_name": "Python 3.10.2 64-bit",
   "language": "python",
   "name": "python3"
  },
  "language_info": {
   "codemirror_mode": {
    "name": "ipython",
    "version": 3
   },
   "file_extension": ".py",
   "mimetype": "text/x-python",
   "name": "python",
   "nbconvert_exporter": "python",
   "pygments_lexer": "ipython3",
   "version": "3.10.2"
  },
  "orig_nbformat": 4
 },
 "nbformat": 4,
 "nbformat_minor": 2
}
